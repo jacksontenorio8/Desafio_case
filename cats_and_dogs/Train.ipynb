{
  "nbformat": 4,
  "nbformat_minor": 0,
  "metadata": {
    "colab": {
      "name": "Train.ipynb",
      "provenance": [],
      "mount_file_id": "1thW7MoZfhhFafw9O2aoovRQ6OK886NRL",
      "authorship_tag": "ABX9TyN59RlM8JTJLA9fyp4G7cIn",
      "include_colab_link": true
    },
    "kernelspec": {
      "name": "python3",
      "display_name": "Python 3"
    },
    "language_info": {
      "name": "python"
    }
  },
  "cells": [
    {
      "cell_type": "markdown",
      "metadata": {
        "id": "view-in-github",
        "colab_type": "text"
      },
      "source": [
        "<a href=\"https://colab.research.google.com/github/jacksontenorio8/Desafio_case/blob/main/Train.ipynb\" target=\"_parent\"><img src=\"https://colab.research.google.com/assets/colab-badge.svg\" alt=\"Open In Colab\"/></a>"
      ]
    },
    {
      "cell_type": "code",
      "source": [
        "import os\n",
        "import cv2 \n",
        "import numpy as np \n",
        "from keras.models import Sequential \n",
        "from keras.layers.convolutional import Conv2D, MaxPooling2D\n",
        "from keras.layers.core import Activation, Flatten, Dense, Dropout \n",
        "from keras import backend as K \n",
        "from keras.optimizers import Adam \n",
        "from keras.preprocessing.image import img_to_array \n",
        "from keras.utils import to_categorical \n",
        "from keras.preprocessing.image import ImageDataGenerator \n",
        "from keras.callbacks import ModelCheckpoint \n"
      ],
      "metadata": {
        "id": "ExEilgUwGOyA"
      },
      "execution_count": null,
      "outputs": []
    },
    {
      "cell_type": "code",
      "source": [
        "def get_data_x_and_y(data_path, width, height, depth, classes):\n",
        "    \n",
        "    labels = []\n",
        "    data = []\n",
        "    \n",
        "    for filename in os.listdir(data_path):\n",
        "        if filename.endswith(\".jpg\") or filename.endswith(\".png\"):\n",
        "            \n",
        "            image = cv2.imread(os.path.join(data_path, filename))\n",
        "            if depth == 1:\n",
        "                image = cv2.cvtColor(image, cv2.COLOR_BGR2GRAY)\n",
        "            \n",
        "            image = cv2.resize(image, (width, height))\n",
        "            \n",
        "            image = img_to_array(image)\n",
        "            \n",
        "            data.append(image)\n",
        "            \n",
        "            labels.append(int(filename[5])-1)\n",
        "    \n",
        "    X = np.array(data, dtype=\"float32\") / 255.0\n",
        "    \n",
        "    Y = to_categorical(labels, num_classes=classes)\n",
        "    return (X, Y)"
      ],
      "metadata": {
        "id": "s87LbYpOG3IM"
      },
      "execution_count": null,
      "outputs": []
    },
    {
      "cell_type": "code",
      "source": [
        "def create_lenet(input_shape):\n",
        "    \n",
        "    \n",
        "    model = Sequential()\n",
        "\n",
        "    \n",
        "    model.add(Conv2D(20, (5, 5), padding=\"same\", input_shape=input_shape))\n",
        "    model.add(Activation(\"relu\"))\n",
        "    model.add(MaxPooling2D(pool_size=(2, 2), strides=(2, 2)))\n",
        "\n",
        "    \n",
        "    model.add(Conv2D(50, (5, 5), padding=\"same\"))\n",
        "    model.add(Activation(\"relu\"))\n",
        "    model.add(MaxPooling2D(pool_size=(2, 2), strides=(2, 2)))\n",
        "\n",
        "    \n",
        "    model.add(Flatten())\n",
        "    model.add(Dense(500))\n",
        "    model.add(Activation(\"relu\"))\n",
        "\n",
        "    \n",
        "    model.add(Dense(classes))\n",
        "    model.add(Activation(\"softmax\"))\n",
        "    return model\n"
      ],
      "metadata": {
        "id": "y-5esuIZHh2R"
      },
      "execution_count": null,
      "outputs": []
    },
    {
      "cell_type": "code",
      "source": [
        "if __name__ == '__main__':\n",
        "    train_path = '/content/drive/MyDrive/cats_and_dogs/train' \n",
        "    test_path = '/content/drive/MyDrive/cats_and_dogs/test' \n",
        "    models_path = \"/content/drive/MyDrive/cats_and_dogs/models\"\n",
        "    width = 100 \n",
        "    height = 100 \n",
        "    depth = 1 \n",
        "    classes = 2 \n",
        "    epochs = 10 \n",
        "    init_lr = 1e-3 \n",
        "    batch_size = 32 \n",
        "    input_shape = (height, width, depth) \n",
        "    save_model = os.path.join(models_path, \"lenet-{epoch:02d}-{acc:.3f}-{val_acc:.3f}.model\")\n",
        "    os.makedirs(models_path, exist_ok=True)\n",
        "\n",
        "    (trainX, trainY) = get_data_x_and_y(train_path, width, height, depth, classes)\n",
        "    (testX, testY) = get_data_x_and_y(test_path, width, height, depth, classes)\n",
        "\n",
        "    aug = ImageDataGenerator(rotation_range=30, width_shift_range=0.1,\n",
        "                height_shift_range=0.1, shear_range=0.2, zoom_range=0.2,\n",
        "                fill_mode=\"nearest\")\n",
        "\n",
        "    model = create_lenet(input_shape)\n",
        "\n",
        "    opt = Adam(lr=init_lr, decay=init_lr / epochs)\n",
        "\n",
        "    model.compile(loss=\"categorical_crossentropy\", optimizer=opt, metrics=[\"accuracy\"])\n",
        "    model.summary()\n",
        "\n",
        "    print(\"\\n training network\")\n",
        "\n",
        "    checkpoint1 = ModelCheckpoint(save_model, monitor='val_loss', verbose=1, save_best_only=True, mode='min')\n",
        "    checkpoint2 = ModelCheckpoint(save_model, monitor='val_acc', verbose=1, save_best_only=True, mode='max')\n",
        "    callbacks_list = [checkpoint1,checkpoint2]\n",
        "\n",
        "    H = model.fit_generator(aug.flow(trainX, trainY, batch_size=batch_size),\n",
        "            validation_data=(testX, testY), steps_per_epoch=len(trainX) // batch_size,\n",
        "            epochs=epochs, verbose=1,callbacks=callbacks_list)\n"
      ],
      "metadata": {
        "id": "SIXle7dpIHMX"
      },
      "execution_count": null,
      "outputs": []
    }
  ]
}